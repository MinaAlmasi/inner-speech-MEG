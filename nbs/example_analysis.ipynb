{
 "cells": [
  {
   "cell_type": "code",
   "execution_count": null,
   "metadata": {},
   "outputs": [],
   "source": [
    "#IMPORTS OF PACKAGES\n",
    "import mne\n",
    "from os.path import join\n",
    "import matplotlib.pyplot as plt\n",
    "import pathlib\n",
    "\n",
    "plt.ion() #toggle interactive plotting\n",
    "# import numpy as np"
   ]
  },
  {
   "cell_type": "code",
   "execution_count": null,
   "metadata": {},
   "outputs": [],
   "source": [
    "# PATHS\n",
    "path = pathlib.Path.cwd()\n",
    "meg_path = path.parents[2] / \"834761\" / \"0114\" / \"20230927_000000\" / \"MEG\" / \"001.self_block1\" / \"files\"\n",
    "\n",
    "bem_path = path.parents[2] / \"835482\" / \"0114\" / \"bem\"\n",
    "\n",
    "subjects_dir = path.parents[2] / \"835482\" \n",
    "\n",
    "raw_name = 'self_block1.fif'\n",
    "fwd_name = 'self_block1-oct-6-src-5120-fwd.fif'"
   ]
  },
  {
   "cell_type": "code",
   "execution_count": null,
   "metadata": {},
   "outputs": [],
   "source": [
    "raw = mne.io.read_raw_fif(join(meg_path, raw_name), preload=True)\n",
    "raw.plot() ## what happens after 10 seconds?\n",
    "raw.compute_psd(n_jobs=-1).plot()\n",
    "raw.compute_psd(n_jobs=-1, tmax=9).plot()"
   ]
  },
  {
   "cell_type": "code",
   "execution_count": null,
   "metadata": {},
   "outputs": [],
   "source": []
  }
 ],
 "metadata": {
  "kernelspec": {
   "display_name": "env",
   "language": "python",
   "name": "python3"
  },
  "language_info": {
   "codemirror_mode": {
    "name": "ipython",
    "version": 3
   },
   "file_extension": ".py",
   "mimetype": "text/x-python",
   "name": "python",
   "nbconvert_exporter": "python",
   "pygments_lexer": "ipython3",
   "version": "3.10.6"
  }
 },
 "nbformat": 4,
 "nbformat_minor": 2
}
