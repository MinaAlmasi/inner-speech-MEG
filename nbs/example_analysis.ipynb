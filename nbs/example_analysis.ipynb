{
 "cells": [
  {
   "cell_type": "code",
   "execution_count": null,
   "metadata": {},
   "outputs": [],
   "source": [
    "#IMPORTS OF PACKAGES\n",
    "import mne\n",
    "from os.path import join\n",
    "import matplotlib.pyplot as plt\n",
    "import pathlib\n",
    "\n",
    "plt.ion() #toggle interactive plotting\n",
    "import numpy as np"
   ]
  },
  {
   "cell_type": "code",
   "execution_count": null,
   "metadata": {},
   "outputs": [],
   "source": [
    "%pip install mne_qt_browser pyqt5-tools"
   ]
  },
  {
   "cell_type": "code",
   "execution_count": null,
   "metadata": {},
   "outputs": [],
   "source": [
    "%pip install h5io"
   ]
  },
  {
   "cell_type": "code",
   "execution_count": null,
   "metadata": {},
   "outputs": [],
   "source": [
    "mne.viz.set_browser_backend('qt')"
   ]
  },
  {
   "cell_type": "code",
   "execution_count": null,
   "metadata": {},
   "outputs": [],
   "source": [
    "# PATHS\n",
    "path = pathlib.Path.cwd()\n",
    "meg_path = path.parents[2] / \"834761\" / \"0114\" / \"20230927_000000\" / \"MEG\" / \"001.self_block1\" / \"files\"\n",
    "\n",
    "bem_path = path.parents[2] / \"835482\" / \"0114\" / \"bem\"\n",
    "\n",
    "subjects_dir = path.parents[2] / \"835482\" \n",
    "\n",
    "raw_name = 'self_block1.fif'\n",
    "fwd_name = 'self_block1-oct-6-src-5120-fwd.fif'"
   ]
  },
  {
   "cell_type": "code",
   "execution_count": null,
   "metadata": {},
   "outputs": [],
   "source": [
    "# READ RAW AND PLOT\n",
    "raw = mne.io.read_raw_fif(join(meg_path, raw_name), preload=True)\n",
    "raw.plot(); ## what happens after 10 seconds?\n",
    "raw.compute_psd(n_jobs=-1).plot();\n",
    "raw.compute_psd(n_jobs=-1, tmax=9).plot();"
   ]
  },
  {
   "cell_type": "code",
   "execution_count": null,
   "metadata": {},
   "outputs": [],
   "source": [
    "# FILTER RAW\n",
    "raw.filter(l_freq=None, h_freq=40, n_jobs=4) # alters raw in-place\n",
    "raw.compute_psd(n_jobs=-1).plot()\n",
    "raw.plot()"
   ]
  },
  {
   "cell_type": "code",
   "execution_count": null,
   "metadata": {},
   "outputs": [],
   "source": [
    "event_dict = {\"11\":11, \"12\":12, \"23\":23, \"103\":103, \"202\":202}\n",
    "\n",
    "# FIND EVENTS\n",
    "events = mne.find_events(raw, min_duration=0.002) ## returns a numpy array\n",
    "\n",
    "mne.viz.plot_events(events); ## samples on x-axis\n",
    "mne.viz.plot_events(events, sfreq=raw.info['sfreq'], event_id=event_dict); ## "
   ]
  },
  {
   "cell_type": "code",
   "execution_count": null,
   "metadata": {},
   "outputs": [],
   "source": [
    "# CREATE EPOCHS (SEGMENT)\n",
    "event_id = dict(self_positive=11, self_negative=12, button_press=23,\n",
    "                incorrect_response=202)\n",
    "# reject = dict(mag=4e-12, grad=4000e-13, eog=250e-6) # T, T/m, V\n",
    "reject = None\n",
    "epochs = mne.Epochs(raw, events, event_id, tmin=-0.200, tmax=1.000,\n",
    "                    baseline=(None, 0), reject=reject, preload=True,\n",
    "                    proj=False) ## have proj True, if you wanna reject\n",
    "\n",
    "epochs.pick_types(meg=True, eog=False, ias=False, emg=False, misc=False,\n",
    "                  stim=False, syst=False)\n",
    "\n",
    "epochs.plot()"
   ]
  },
  {
   "cell_type": "code",
   "execution_count": null,
   "metadata": {},
   "outputs": [],
   "source": [
    "# CREATE EVOKED\n",
    "evokeds = list()\n",
    "for event in event_id:\n",
    "\n",
    "    evoked = epochs[event].average()\n",
    "    evokeds.append(evoked)\n",
    "    evoked.plot(window_title=evoked.comment)"
   ]
  },
  {
   "cell_type": "code",
   "execution_count": null,
   "metadata": {},
   "outputs": [],
   "source": [
    "## PROJECTIONS\n",
    "mne.viz.plot_projs_topomap(evoked.info['projs'], evoked.info)\n",
    "\n",
    "epochs.apply_proj()\n",
    "\n",
    "evokeds = list()\n",
    "for event in event_id:\n",
    "    evoked = epochs[event].average()\n",
    "    evokeds.append(evoked)\n",
    "    evoked.plot(window_title=evoked.comment)"
   ]
  },
  {
   "cell_type": "code",
   "execution_count": null,
   "metadata": {},
   "outputs": [],
   "source": [
    "# PICK ARRAY OF INTERST FOR CLASSIFICATION\n",
    "X = epochs.get_data()"
   ]
  },
  {
   "cell_type": "code",
   "execution_count": null,
   "metadata": {},
   "outputs": [],
   "source": [
    "# SOURCE RECONSTRUCTION\n",
    "fwd = mne.read_forward_solution(bem_path / fwd_name)\n",
    "src = fwd['src'] # where are the sources\n",
    "trans = fwd['mri_head_t'] # what's the transformation between mri and head\n",
    "info = epochs.info # where are the sensors?\n",
    "bem_sol = fwd['sol'] # how do electric fields spread from the sources inside the head?\n",
    "\n",
    "bem = bem_path / \"0114-5120-bem.fif\""
   ]
  },
  {
   "cell_type": "code",
   "execution_count": null,
   "metadata": {},
   "outputs": [],
   "source": [
    "# PLOT SOURCE SPACE\n",
    "src.plot(trans=trans, subjects_dir=str(subjects_dir))\n",
    "src.plot(trans=fwd['mri_head_t'], subjects_dir=str(subjects_dir), head=True,\n",
    "         skull='inner_skull')\n",
    "\n",
    "mne.viz.plot_alignment(info, trans=trans, subject='0114',\n",
    "                       subjects_dir=subjects_dir, src=src,\n",
    "                       bem=bem, dig=True, mri_fiducials=True)"
   ]
  },
  {
   "cell_type": "code",
   "execution_count": null,
   "metadata": {},
   "outputs": [],
   "source": [
    "# gradiometers\n",
    "noise_cov = mne.compute_covariance(epochs, tmax=0.000)\n",
    "noise_cov.plot(epochs.info) # not full range due to projectors projected out"
   ]
  },
  {
   "cell_type": "code",
   "execution_count": null,
   "metadata": {},
   "outputs": [],
   "source": [
    "# operator that specifies hpw noise cov should be applied to the fwd\n",
    "evoked = evokeds[0]\n",
    "inv = mne.minimum_norm.make_inverse_operator(evoked.info, fwd, noise_cov)"
   ]
  },
  {
   "cell_type": "code",
   "execution_count": null,
   "metadata": {},
   "outputs": [],
   "source": [
    "# estimate source time courses for evoked responses\n",
    "stc = mne.minimum_norm.apply_inverse(evoked, inv, method='MNE')\n",
    "print(stc.data.shape)\n",
    "print(src)\n",
    "\n",
    "stc.plot(subjects_dir=subjects_dir, hemi='both', initial_time=0.170)"
   ]
  },
  {
   "cell_type": "code",
   "execution_count": null,
   "metadata": {},
   "outputs": [],
   "source": [
    "morph_name = '0114-oct-6-src-morph.h5'\n",
    "morph = mne.read_source_morph(join(bem_path, morph_name))"
   ]
  },
  {
   "cell_type": "code",
   "execution_count": null,
   "metadata": {},
   "outputs": [],
   "source": [
    "# apply the morph to the subject - bringing them into template space\n",
    "## this allows for averaging of subjects in source space\n",
    "stc_morph = morph.apply(stc)\n",
    "stc_morph.plot(subjects_dir=subjects_dir, hemi='both', initial_time=0.170,\n",
    "               subject='fsaverage')"
   ]
  },
  {
   "cell_type": "code",
   "execution_count": null,
   "metadata": {},
   "outputs": [],
   "source": [
    "# reconstruct individual epochs instead of evoked\n",
    "stcs = mne.minimum_norm.apply_inverse_epochs(epochs, inv,\n",
    "                                             lambda2=1, method='MNE',\n",
    "                                             pick_ori='normal')"
   ]
  },
  {
   "cell_type": "code",
   "execution_count": null,
   "metadata": {},
   "outputs": [],
   "source": [
    "# Mean across epochs - why do we have negative values now as well?\n",
    "mean_stc = sum(stcs) / len(stcs)\n",
    "mean_stc.plot(subjects_dir=subjects_dir, hemi='both', initial_time=0.170)"
   ]
  },
  {
   "cell_type": "code",
   "execution_count": null,
   "metadata": {},
   "outputs": [],
   "source": [
    "#%% reconstructing single labels\n",
    "\n",
    "def reconstruct_label(label_name):\n",
    "    label = mne.read_label(join(bem_path, '..', 'label', label_name))\n",
    "\n",
    "    stcs = mne.minimum_norm.apply_inverse_epochs(epochs, inv,\n",
    "                                             lambda2=1, method='MNE',\n",
    "                                             pick_ori='normal', label=label)\n",
    "\n",
    "    mean_stc = sum(stcs) / len(stcs) # over trials, not vertices\n",
    "    return mean_stc\n",
    "\n",
    "ltc = reconstruct_label('lh.BA44_exvivo.label')\n",
    "## check the label path for more labels\n",
    "\n",
    "plt.figure()\n",
    "plt.plot(ltc.times, ltc.data.T)\n",
    "plt.show()"
   ]
  }
 ],
 "metadata": {
  "kernelspec": {
   "display_name": "env",
   "language": "python",
   "name": "python3"
  },
  "language_info": {
   "codemirror_mode": {
    "name": "ipython",
    "version": 3
   },
   "file_extension": ".py",
   "mimetype": "text/x-python",
   "name": "python",
   "nbconvert_exporter": "python",
   "pygments_lexer": "ipython3",
   "version": "3.10.13"
  }
 },
 "nbformat": 4,
 "nbformat_minor": 2
}
